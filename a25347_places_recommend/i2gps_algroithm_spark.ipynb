{
 "cells": [
  {
   "cell_type": "code",
   "execution_count": 4,
   "id": "defined-matter",
   "metadata": {},
   "outputs": [
    {
     "name": "stdout",
     "output_type": "stream",
     "text": [
      "3.3.0\n"
     ]
    }
   ],
   "source": [
    "from pyspark.sql import SparkSession\n",
    "import pyspark.sql.functions as F\n",
    "import matplotlib.pyplot as plt\n",
    "import seaborn as sns\n",
    "import pyspark\n",
    "\n",
    "# # 创建SparkSession\n",
    "# spark = SparkSession.builder.appName('MusicAnalysis').getOrCreate()\n",
    "\n",
    "# # 读取CSV文件\n",
    "# df = spark.read.csv('data/image_gps_data.csv', header=True)\n",
    "\n",
    "print(pyspark.__version__)\n"
   ]
  },
  {
   "cell_type": "code",
   "execution_count": 5,
   "id": "1185ae4f",
   "metadata": {},
   "outputs": [],
   "source": [
    "from pyspark import SparkContext, SparkConf\n",
    "from pyspark.sql import SparkSession\n",
    "from pyspark.ml.feature import VectorAssembler, BucketedRandomProjectionLSH\n",
    "from pyspark.sql.functions import rand, udf\n",
    "from pyspark.sql.types import IntegerType\n",
    "import numpy as np\n",
    "import matplotlib.pyplot as plt\n",
    "\n",
    "import pandas as pd\n"
   ]
  },
  {
   "cell_type": "code",
   "execution_count": 6,
   "id": "widespread-product",
   "metadata": {},
   "outputs": [
    {
     "data": {
      "image/png": "[encoded data removed]",
      "text/plain": [
       "<Figure size 640x480 with 1 Axes>"
      ]
     },
     "metadata": {},
     "output_type": "display_data"
    },
    {
     "name": "stdout",
     "output_type": "stream",
     "text": [
      "Longitude statistics:\n",
      "count      9.000000\n",
      "mean     117.121889\n",
      "std        4.073205\n",
      "min      108.948000\n",
      "25%      116.354000\n",
      "50%      117.210000\n",
      "75%      120.161000\n",
      "max      121.500000\n",
      "Name: longitude, dtype: float64\n",
      "Latitude statistics:\n",
      "count     9.000000\n",
      "mean     33.462111\n",
      "std       5.543311\n",
      "min      23.125000\n",
      "25%      31.224000\n",
      "50%      32.041000\n",
      "75%      39.123000\n",
      "max      39.974000\n",
      "Name: latitude, dtype: float64\n"
     ]
    }
   ],
   "source": [
    "\n",
    "\n",
    "\n",
    "\n",
    "# Read the data from a CSV file\n",
    "df = pd.read_csv(\"data/image_gps_data.csv\")\n",
    "\n",
    "# Plot the longitude and latitude values as a scatter plot\n",
    "plt.scatter(df[\"longitude\"], df[\"latitude\"])\n",
    "plt.xlabel(\"Longitude\")\n",
    "plt.ylabel(\"Latitude\")\n",
    "plt.title(\"Spatial Distribution of Data\")\n",
    "plt.show()\n",
    "\n",
    "# Print the statistics of the longitude and latitude values\n",
    "print(\"Longitude statistics:\")\n",
    "print(df[\"longitude\"].describe())\n",
    "print(\"Latitude statistics:\")\n",
    "print(df[\"latitude\"].describe())"
   ]
  },
  {
   "cell_type": "code",
   "execution_count": 7,
   "id": "d9d10147",
   "metadata": {},
   "outputs": [
    {
     "name": "stdout",
     "output_type": "stream",
     "text": [
      "23/03/05 22:37:27 WARN Utils: Your hostname, AbeldeMacBook-Pro.local resolves to a loopback address: 127.0.0.1; using 192.168.0.104 instead (on interface en0)\n",
      "23/03/05 22:37:27 WARN Utils: Set SPARK_LOCAL_IP if you need to bind to another address\n"
     ]
    },
    {
     "name": "stderr",
     "output_type": "stream",
     "text": [
      "Setting default log level to \"WARN\".\n",
      "To adjust logging level use sc.setLogLevel(newLevel). For SparkR, use setLogLevel(newLevel).\n"
     ]
    },
    {
     "name": "stdout",
     "output_type": "stream",
     "text": [
      "23/03/05 22:37:27 WARN NativeCodeLoader: Unable to load native-hadoop library for your platform... using builtin-java classes where applicable\n"
     ]
    }
   ],
   "source": [
    "# Create a SparkConf object and set the app name\n",
    "conf = SparkConf().setAppName(\"DBSCAN Demo\")\n",
    "\n",
    "# Create a SparkContext object\n",
    "sc = SparkContext(conf=conf)\n",
    "\n",
    "# Create a SparkSession object\n",
    "spark = SparkSession.builder.appName(\"DBSCAN Demo\").getOrCreate()\n",
    "# Read the data from a CSV file and create a DataFrame\n",
    "df = spark.read.csv(\"data/image_gps_data.csv\", header=True, inferSchema=True)"
   ]
  },
  {
   "cell_type": "code",
   "execution_count": 8,
   "id": "meaning-norfolk",
   "metadata": {},
   "outputs": [
    {
     "name": "stdout",
     "output_type": "stream",
     "text": [
      "23/03/05 22:37:30 WARN InstanceBuilder$JavaBLAS: Failed to load implementation from:dev.ludovic.netlib.blas.VectorBLAS\n",
      "23/03/05 22:37:30 WARN InstanceBuilder$NativeBLAS: Failed to load implementation from:dev.ludovic.netlib.blas.JNIBLAS\n",
      "23/03/05 22:37:30 WARN InstanceBuilder$NativeBLAS: Failed to load implementation from:dev.ludovic.netlib.blas.ForeignLinkerBLAS\n",
      "+--------------------+\n",
      "|           neighbors|\n",
      "+--------------------+\n",
      "|[{[116.354,39.974...|\n",
      "|[{[118.767,32.041...|\n",
      "|[{[121.473,31.23]...|\n",
      "|[{[113.28,23.125]...|\n",
      "|[{[120.161,30.264...|\n",
      "|[{[108.948,34.263...|\n",
      "|[{[117.21,39.123]...|\n",
      "+--------------------+\n",
      "\n"
     ]
    }
   ],
   "source": [
    "\n",
    "\n",
    "# Select the columns that represent the spatial coordinates\n",
    "cols = [\"longitude\", \"latitude\"]\n",
    "df_coords = df.select(*cols)\n",
    "\n",
    "# Convert the DataFrame to a feature vector format\n",
    "vectorAssembler = VectorAssembler(inputCols=cols, outputCol=\"features\")\n",
    "df_features = vectorAssembler.transform(df_coords).select(\"features\")\n",
    "\n",
    "# Define the DBSCAN clustering algorithm\n",
    "eps = 0.1\n",
    "min_pts = 5\n",
    "num_hash_tables = 5\n",
    "brp = BucketedRandomProjectionLSH(inputCol=\"features\", outputCol=\"hashes\", numHashTables=num_hash_tables, bucketLength=eps)\n",
    "model = brp.fit(df_features)\n",
    "similarities = model.approxSimilarityJoin(df_features, df_features, eps, distCol=\"distance\")\n",
    "clustered = similarities.filter(f\"distance <= {eps}\").groupBy(\"datasetA\").agg(F.collect_set(\"datasetB\").alias(\"neighbors\"))\n",
    "df_final = clustered.select(\"neighbors\").distinct()\n",
    "\n",
    "# Show the predicted clusters\n",
    "df_final.orderBy(rand()).show()\n"
   ]
  },
  {
   "cell_type": "code",
   "execution_count": 15,
   "id": "missing-moral",
   "metadata": {},
   "outputs": [
    {
     "name": "stdout",
     "output_type": "stream",
     "text": [
      "Cluster: [Row(features=DenseVector([120.161, 30.264]), hashes=[DenseVector([-18.0]), DenseVector([-1220.0]), DenseVector([-452.0]), DenseVector([783.0]), DenseVector([-1210.0])])]\n",
      "Cluster: [Row(features=DenseVector([117.21, 39.123]), hashes=[DenseVector([75.0]), DenseVector([-1230.0]), DenseVector([-363.0]), DenseVector([706.0]), DenseVector([-1183.0])])]\n",
      "Cluster: [Row(features=DenseVector([108.948, 34.263]), hashes=[DenseVector([50.0]), DenseVector([-1134.0]), DenseVector([-355.0]), DenseVector([669.0]), DenseVector([-1099.0])])]\n",
      "Cluster: [Row(features=DenseVector([113.28, 23.125]), hashes=[DenseVector([-69.0]), DenseVector([-1128.0]), DenseVector([-470.0]), DenseVector([770.0]), DenseVector([-1139.0])])]\n",
      "Cluster: [Row(features=DenseVector([121.473, 31.23]), hashes=[DenseVector([-12.0]), DenseVector([-1236.0]), DenseVector([-452.0]), DenseVector([787.0]), DenseVector([-1223.0])]), Row(features=DenseVector([121.5, 31.224]), hashes=[DenseVector([-12.0]), DenseVector([-1236.0]), DenseVector([-452.0]), DenseVector([788.0]), DenseVector([-1224.0])])]\n",
      "Cluster: [Row(features=DenseVector([116.354, 39.974]), hashes=[DenseVector([86.0]), DenseVector([-1225.0]), DenseVector([-351.0]), DenseVector([694.0]), DenseVector([-1175.0])]), Row(features=DenseVector([116.404, 39.915]), hashes=[DenseVector([85.0]), DenseVector([-1226.0]), DenseVector([-352.0]), DenseVector([695.0]), DenseVector([-1175.0])])]\n",
      "Cluster: [Row(features=DenseVector([118.767, 32.041]), hashes=[DenseVector([3.0]), DenseVector([-1215.0]), DenseVector([-430.0]), DenseVector([761.0]), DenseVector([-1197.0])])]\n"
     ]
    }
   ],
   "source": [
    "# Loop through the predicted clusters\n",
    "for row in df_final.collect():\n",
    "    cluster = row['neighbors']\n",
    "    print(f\"Cluster: {cluster}\")\n"
   ]
  },
  {
   "cell_type": "code",
   "execution_count": null,
   "id": "sharing-atlas",
   "metadata": {},
   "outputs": [],
   "source": []
  },
  {
   "cell_type": "code",
   "execution_count": null,
   "id": "latest-hungary",
   "metadata": {},
   "outputs": [],
   "source": []
  },
  {
   "cell_type": "code",
   "execution_count": null,
   "id": "hundred-coffee",
   "metadata": {},
   "outputs": [],
   "source": []
  },
  {
   "cell_type": "code",
   "execution_count": null,
   "id": "former-triple",
   "metadata": {},
   "outputs": [],
   "source": []
  },
  {
   "cell_type": "code",
   "execution_count": null,
   "id": "hired-opportunity",
   "metadata": {},
   "outputs": [],
   "source": []
  },
  {
   "cell_type": "code",
   "execution_count": null,
   "id": "chronic-simpson",
   "metadata": {},
   "outputs": [],
   "source": []
  },
  {
   "cell_type": "code",
   "execution_count": null,
   "id": "light-cattle",
   "metadata": {},
   "outputs": [],
   "source": []
  }
 ],
 "metadata": {
  "kernelspec": {
   "display_name": "Python 3 (ipykernel)",
   "language": "python",
   "name": "python3"
  },
  "language_info": {
   "codemirror_mode": {
    "name": "ipython",
    "version": 3
   },
   "file_extension": ".py",
   "mimetype": "text/x-python",
   "name": "python",
   "nbconvert_exporter": "python",
   "pygments_lexer": "ipython3",
   "version": "3.9.14"
  }
 },
 "nbformat": 4,
 "nbformat_minor": 5
}
