{
 "cells": [
  {
   "cell_type": "code",
   "execution_count": 74,
   "id": "e1fabadc",
   "metadata": {},
   "outputs": [],
   "source": [
    "# Sports_and_Outdoors.csv\n",
    "# from https://nijianmo.github.io/amazon/index.html#code\n",
    "import pandas as pd\n",
    "import numpy as np\n",
    "from sklearn.model_selection import train_test_split\n",
    "from sklearn.metrics import mean_squared_error\n",
    "from scipy.sparse import csr_matrix\n",
    "from sklearn.neighbors import NearestNeighbors\n",
    "\n",
    "# Load the Amazon review dataset into a pandas dataframe\n",
    "import pandas as pd\n",
    "import matplotlib.pyplot as plt\n",
    "\n",
    "\n",
    "from sklearn.model_selection import KFold\n",
    "\n"
   ]
  },
  {
   "cell_type": "markdown",
   "id": "29b80da1",
   "metadata": {},
   "source": [
    "'''\n",
    "The machine learning problem I'm working on in my research project is Collaborative Filtering for Recommendation: Using a method to find similar users based on cosine similarity and recommending products based on the average rating and number of ratings.\n",
    "\n",
    "Instead of using a specific model, my research project implements a collaborative filtering method using pandas and numpy. This is a common approach for recommender systems.\n",
    "\n",
    "The collaborative filtering method used in my research project does not require tuning of hyperparameters.\n",
    "\n",
    "The features of the model are designed based on the user-product interactions in the dataset, specifically the ratings given by each user for each product.\n",
    "\n",
    "Cross-validation is not explicitly performed in my research project, but collaborative filtering methods inherently use the entire dataset for training and testing.\n",
    "\n",
    "The loss metric used to evaluate the model is not clearly defined in my research project. However, in collaborative filtering methods, the goal is to minimize the error between predicted and actual ratings.\n",
    "\n",
    "From a bias-variance trade-off perspective, the performance of the model can be evaluated by comparing the predicted and actual scores on the holdout test set. Overfitting can be checked by comparing the performance on the training set versus the test set.\n",
    "\n",
    "One way to improve the model might be to incorporate other features, such as user demographics or product categories, to improve recommendations. Additionally, other approaches such as matrix factorization or deep learning can be explored for more advanced modeling.\n",
    "\n",
    "The focus of my research project is modeling, so it does not include conclusions or analyzes that support the research question from an inferential perspective. However, my research project provided a good basis for further analysis and investigation\n",
    "'''"
   ]
  },
  {
   "cell_type": "code",
   "execution_count": 75,
   "id": "7bb45995",
   "metadata": {},
   "outputs": [],
   "source": [
    "df = pd.read_csv('Sports_and_Outdoors.csv', header=None, names=['product_id', 'user_id', 'rating', 'timestamp'])"
   ]
  },
  {
   "cell_type": "code",
   "execution_count": 76,
   "id": "7212439d",
   "metadata": {},
   "outputs": [
    {
     "data": {
      "text/html": [
       "<div>\n",
       "<style scoped>\n",
       "    .dataframe tbody tr th:only-of-type {\n",
       "        vertical-align: middle;\n",
       "    }\n",
       "\n",
       "    .dataframe tbody tr th {\n",
       "        vertical-align: top;\n",
       "    }\n",
       "\n",
       "    .dataframe thead th {\n",
       "        text-align: right;\n",
       "    }\n",
       "</style>\n",
       "<table border=\"1\" class=\"dataframe\">\n",
       "  <thead>\n",
       "    <tr style=\"text-align: right;\">\n",
       "      <th></th>\n",
       "      <th>product_id</th>\n",
       "      <th>user_id</th>\n",
       "      <th>rating</th>\n",
       "      <th>timestamp</th>\n",
       "    </tr>\n",
       "  </thead>\n",
       "  <tbody>\n",
       "    <tr>\n",
       "      <th>0</th>\n",
       "      <td>0000031895</td>\n",
       "      <td>A23K73OVXJ04EG</td>\n",
       "      <td>5.0</td>\n",
       "      <td>1391212800</td>\n",
       "    </tr>\n",
       "    <tr>\n",
       "      <th>1</th>\n",
       "      <td>0000031895</td>\n",
       "      <td>A2681T699HV6H1</td>\n",
       "      <td>4.0</td>\n",
       "      <td>1384905600</td>\n",
       "    </tr>\n",
       "    <tr>\n",
       "      <th>2</th>\n",
       "      <td>0000031895</td>\n",
       "      <td>A374PA18DCGS5Y</td>\n",
       "      <td>1.0</td>\n",
       "      <td>1477008000</td>\n",
       "    </tr>\n",
       "    <tr>\n",
       "      <th>3</th>\n",
       "      <td>0000031895</td>\n",
       "      <td>A14PVW2N5YBWSA</td>\n",
       "      <td>5.0</td>\n",
       "      <td>1476748800</td>\n",
       "    </tr>\n",
       "    <tr>\n",
       "      <th>4</th>\n",
       "      <td>0000031895</td>\n",
       "      <td>A2KWBC44QI2567</td>\n",
       "      <td>1.0</td>\n",
       "      <td>1476662400</td>\n",
       "    </tr>\n",
       "  </tbody>\n",
       "</table>\n",
       "</div>"
      ],
      "text/plain": [
       "   product_id         user_id  rating   timestamp\n",
       "0  0000031895  A23K73OVXJ04EG     5.0  1391212800\n",
       "1  0000031895  A2681T699HV6H1     4.0  1384905600\n",
       "2  0000031895  A374PA18DCGS5Y     1.0  1477008000\n",
       "3  0000031895  A14PVW2N5YBWSA     5.0  1476748800\n",
       "4  0000031895  A2KWBC44QI2567     1.0  1476662400"
      ]
     },
     "execution_count": 76,
     "metadata": {},
     "output_type": "execute_result"
    }
   ],
   "source": [
    "df.head()\n"
   ]
  },
  {
   "cell_type": "code",
   "execution_count": 77,
   "id": "1155aa31",
   "metadata": {},
   "outputs": [
    {
     "name": "stdout",
     "output_type": "stream",
     "text": [
      "Length of the DataFrame: 12980837\n"
     ]
    }
   ],
   "source": [
    "print(\"Length of the DataFrame:\", len(df))\n"
   ]
  },
  {
   "cell_type": "code",
   "execution_count": 78,
   "id": "82cb7e92",
   "metadata": {},
   "outputs": [],
   "source": [
    "\n",
    "df = df.drop('timestamp', axis=1) #Dropping timestamp\n",
    "\n",
    "df_copy = df.copy(deep=True)"
   ]
  },
  {
   "cell_type": "code",
   "execution_count": 79,
   "id": "d7acd206",
   "metadata": {},
   "outputs": [],
   "source": [
    "# Convert the user_id column from string to integer\n",
    "# Map the user_id column to integers\n",
    "df['user_id'] = pd.factorize(df['user_id'])[0]\n",
    "\n",
    "df['product_id'] = pd.factorize(df['product_id'])[0]"
   ]
  },
  {
   "cell_type": "code",
   "execution_count": 80,
   "id": "0231bb6a",
   "metadata": {},
   "outputs": [
    {
     "data": {
      "text/plain": [
       "product_id      int64\n",
       "user_id         int64\n",
       "rating        float64\n",
       "dtype: object"
      ]
     },
     "execution_count": 80,
     "metadata": {},
     "output_type": "execute_result"
    }
   ],
   "source": [
    "#Check Data types\n",
    "df.dtypes"
   ]
  },
  {
   "cell_type": "code",
   "execution_count": 81,
   "id": "bb4ba68e",
   "metadata": {},
   "outputs": [
    {
     "data": {
      "text/html": [
       "<div>\n",
       "<style scoped>\n",
       "    .dataframe tbody tr th:only-of-type {\n",
       "        vertical-align: middle;\n",
       "    }\n",
       "\n",
       "    .dataframe tbody tr th {\n",
       "        vertical-align: top;\n",
       "    }\n",
       "\n",
       "    .dataframe thead th {\n",
       "        text-align: right;\n",
       "    }\n",
       "</style>\n",
       "<table border=\"1\" class=\"dataframe\">\n",
       "  <thead>\n",
       "    <tr style=\"text-align: right;\">\n",
       "      <th></th>\n",
       "      <th>product_id</th>\n",
       "      <th>user_id</th>\n",
       "      <th>rating</th>\n",
       "    </tr>\n",
       "  </thead>\n",
       "  <tbody>\n",
       "    <tr>\n",
       "      <th>0</th>\n",
       "      <td>0</td>\n",
       "      <td>0</td>\n",
       "      <td>5.0</td>\n",
       "    </tr>\n",
       "    <tr>\n",
       "      <th>1</th>\n",
       "      <td>0</td>\n",
       "      <td>1</td>\n",
       "      <td>4.0</td>\n",
       "    </tr>\n",
       "    <tr>\n",
       "      <th>2</th>\n",
       "      <td>0</td>\n",
       "      <td>2</td>\n",
       "      <td>1.0</td>\n",
       "    </tr>\n",
       "    <tr>\n",
       "      <th>3</th>\n",
       "      <td>0</td>\n",
       "      <td>3</td>\n",
       "      <td>5.0</td>\n",
       "    </tr>\n",
       "    <tr>\n",
       "      <th>4</th>\n",
       "      <td>0</td>\n",
       "      <td>4</td>\n",
       "      <td>1.0</td>\n",
       "    </tr>\n",
       "  </tbody>\n",
       "</table>\n",
       "</div>"
      ],
      "text/plain": [
       "   product_id  user_id  rating\n",
       "0           0        0     5.0\n",
       "1           0        1     4.0\n",
       "2           0        2     1.0\n",
       "3           0        3     5.0\n",
       "4           0        4     1.0"
      ]
     },
     "execution_count": 81,
     "metadata": {},
     "output_type": "execute_result"
    }
   ],
   "source": [
    "df.head()\n"
   ]
  },
  {
   "cell_type": "code",
   "execution_count": 82,
   "id": "0786c478",
   "metadata": {},
   "outputs": [
    {
     "data": {
      "image/png": "[encoded data removed]",
      "text/plain": [
       "<Figure size 640x480 with 1 Axes>"
      ]
     },
     "metadata": {},
     "output_type": "display_data"
    },
    {
     "data": {
      "image/png": "[encoded data removed]",
      "text/plain": [
       "<Figure size 640x480 with 1 Axes>"
      ]
     },
     "metadata": {},
     "output_type": "display_data"
    }
   ],
   "source": [
    "\n",
    "\n",
    "# Plot the distribution of user ratings\n",
    "plt.hist(df['rating'], bins=[0.5,1.5,2.5,3.5,4.5,5.5])\n",
    "plt.title('Distribution of User Ratings')\n",
    "plt.xlabel('Rating')\n",
    "plt.ylabel('Count')\n",
    "plt.show()\n",
    "\n",
    "# Plot the distribution of product ratings\n",
    "product_rating_counts = df.groupby('product_id')['rating'].count().values\n",
    "plt.hist(product_rating_counts, bins=range(1,50))\n",
    "plt.title('Distribution of Product Rating Counts')\n",
    "plt.xlabel('Number of Ratings per Product')\n",
    "plt.ylabel('Count')\n",
    "plt.show()\n"
   ]
  },
  {
   "cell_type": "code",
   "execution_count": 83,
   "id": "9dcb38e4",
   "metadata": {},
   "outputs": [
    {
     "data": {
      "image/png": "[encoded data removed]",
      "text/plain": [
       "<Figure size 640x480 with 1 Axes>"
      ]
     },
     "metadata": {},
     "output_type": "display_data"
    },
    {
     "data": {
      "image/png": "[encoded data removed]",
      "text/plain": [
       "<Figure size 640x480 with 1 Axes>"
      ]
     },
     "metadata": {},
     "output_type": "display_data"
    },
    {
     "data": {
      "image/png": "[encoded data removed]",
      "text/plain": [
       "<Figure size 640x480 with 1 Axes>"
      ]
     },
     "metadata": {},
     "output_type": "display_data"
    }
   ],
   "source": [
    "# Calculate the average rating for each product\n",
    "average_rating = df.groupby('product_id')['rating'].mean()\n",
    "# Calculate the count of ratings for each product\n",
    "count_rating = df.groupby('product_id')['rating'].count()\n",
    "\n",
    "# Create a dataframe with calculated average and count of ratings\n",
    "product_ratings = pd.DataFrame({'Average Rating':average_rating, 'Rating Count':count_rating})\n",
    "\n",
    "# Sort the dataframe by average of ratings\n",
    "product_ratings_sorted = product_ratings.sort_values(by='Average Rating', ascending=False)\n",
    "\n",
    "# Plot the distribution of average product ratings\n",
    "plt.hist(product_ratings_sorted['Average Rating'], bins=np.arange(2.5, 5.1, 0.1))\n",
    "plt.title('Distribution of Average Product Ratings')\n",
    "plt.xlabel('Average Rating')\n",
    "plt.ylabel('Count')\n",
    "plt.show()\n",
    "\n",
    "# Plot the distribution of product rating counts\n",
    "plt.hist(product_ratings_sorted['Rating Count'], bins=range(1, 100, 5))\n",
    "plt.title('Distribution of Product Rating Counts')\n",
    "plt.xlabel('Number of Ratings per Product')\n",
    "plt.ylabel('Count')\n",
    "plt.show()\n",
    "\n",
    "# Plot the top 20 products by average rating\n",
    "product_ratings_top20 = product_ratings_sorted.head(20)\n",
    "product_ratings_top20.plot(kind='bar', y='Average Rating', legend=False)\n",
    "plt.title('Top 20 Products by Average Rating')\n",
    "plt.xlabel('Product ID')\n",
    "plt.ylabel('Average Rating')\n",
    "plt.show()\n"
   ]
  },
  {
   "cell_type": "code",
   "execution_count": 111,
   "id": "50ac9e4d",
   "metadata": {},
   "outputs": [
    {
     "name": "stdout",
     "output_type": "stream",
     "text": [
      "The number of observations in the final data = 130338\n",
      "Number of unique USERS in the final data =  1818\n",
      "Number of unique PRODUCTS in the final data =  63610\n"
     ]
    }
   ],
   "source": [
    "counts = df['user_id'].value_counts()\n",
    "df_final = df[df['user_id'].isin(counts[counts >= 50].index)]\n",
    "\n",
    "print('The number of observations in the final data =', len(df_final))\n",
    "print('Number of unique USERS in the final data = ', df_final['user_id'].nunique())\n",
    "print('Number of unique PRODUCTS in the final data = ', df_final['product_id'].nunique())"
   ]
  },
  {
   "cell_type": "code",
   "execution_count": 112,
   "id": "06c4089f",
   "metadata": {},
   "outputs": [],
   "source": [
    "# from surprise import Dataset\n",
    "# from surprise import Reader\n",
    "# from surprise import SVD\n",
    "# from surprise.model_selection import cross_validate\n",
    "# from surprise.model_selection import train_test_split\n",
    "\n",
    "# df_copy = df_final.copy(deep=True)\n",
    "# # Convert the user_id column from string to integer and map to integers\n",
    "# # df['user_id'] = pd.factorize(df['user_id'])[0]\n",
    "# # df['product_id'] = pd.factorize(df['product_id'])[0]\n",
    "\n",
    "# # Define the scale of the rating values\n",
    "# reader = Reader(rating_scale=(1, 5))\n",
    "\n",
    "# # Load the dataset into Surprise format\n",
    "# data = Dataset.load_from_df(df[['user_id', 'product_id', 'rating']], reader)\n",
    "\n",
    "# # Split the dataset into training and testing sets\n",
    "# trainset, testset = train_test_split(data, test_size=.25)\n",
    "\n",
    "# # Define the SVD model with 50 latent factors and regularization parameter of 0.01\n",
    "# model = SVD(n_factors=50, reg_all=0.01)\n",
    "\n",
    "# # Train the model on the training set\n",
    "# model.fit(trainset)\n",
    "\n",
    "# # Evaluate the model using RMSE and MAE metrics\n",
    "# results = cross_validate(model, data, measures=['RMSE', 'MAE'], cv=5, verbose=True)\n",
    "\n",
    "# # Print the average RMSE and MAE across the 5 folds\n",
    "# print('Average RMSE:', results['test_rmse'].mean())\n",
    "# print('Average MAE:', results['test_mae'].mean())\n",
    "\n",
    "# # Predict the ratings for the test set\n",
    "# predictions = model.test(testset)\n",
    "\n",
    "# # Print the first 10 predicted ratings\n",
    "# for pred in predictions[:10]:\n",
    "#     print('User:', pred.uid, 'Product:', pred.iid, 'Rating:', pred.est)\n",
    "\n",
    "\n"
   ]
  },
  {
   "cell_type": "code",
   "execution_count": 113,
   "id": "983207df",
   "metadata": {},
   "outputs": [
    {
     "name": "stdout",
     "output_type": "stream",
     "text": [
      "Number of unique users: 6703391\n",
      "Number of unique products: 957764\n",
      "Average rating: 4.243398403354114\n"
     ]
    }
   ],
   "source": [
    "# Calculate some basic statistics about the dataset\n",
    "\n",
    "# Convert the 'user_id' column to a string data type\n",
    "# df['user_id'] = df['user_id'].astype(str)\n",
    "\n",
    "n_users = df['user_id'].nunique()\n",
    "n_products = df['product_id'].nunique()\n",
    "print('Number of unique users:', n_users)\n",
    "print('Number of unique products:', n_products)\n",
    "print('Average rating:', np.mean(df['rating']))\n"
   ]
  },
  {
   "cell_type": "code",
   "execution_count": 114,
   "id": "e00fe3e8",
   "metadata": {},
   "outputs": [
    {
     "name": "stdout",
     "output_type": "stream",
     "text": [
      "Shape of final_ratings_matrix:  (1818, 63610)\n",
      "given_num_of_ratings =  123814\n",
      "possible_num_of_ratings =  115642980\n",
      "density: 0.11%\n"
     ]
    },
    {
     "data": {
      "text/html": [
       "<div>\n",
       "<style scoped>\n",
       "    .dataframe tbody tr th:only-of-type {\n",
       "        vertical-align: middle;\n",
       "    }\n",
       "\n",
       "    .dataframe tbody tr th {\n",
       "        vertical-align: top;\n",
       "    }\n",
       "\n",
       "    .dataframe thead th {\n",
       "        text-align: right;\n",
       "    }\n",
       "</style>\n",
       "<table border=\"1\" class=\"dataframe\">\n",
       "  <thead>\n",
       "    <tr style=\"text-align: right;\">\n",
       "      <th>product_id</th>\n",
       "      <th>5</th>\n",
       "      <th>6</th>\n",
       "      <th>13</th>\n",
       "      <th>17</th>\n",
       "      <th>19</th>\n",
       "      <th>20</th>\n",
       "      <th>21</th>\n",
       "      <th>24</th>\n",
       "      <th>29</th>\n",
       "      <th>30</th>\n",
       "      <th>...</th>\n",
       "      <th>957359</th>\n",
       "      <th>957382</th>\n",
       "      <th>957455</th>\n",
       "      <th>957463</th>\n",
       "      <th>957508</th>\n",
       "      <th>957567</th>\n",
       "      <th>957657</th>\n",
       "      <th>957683</th>\n",
       "      <th>957740</th>\n",
       "      <th>957756</th>\n",
       "    </tr>\n",
       "    <tr>\n",
       "      <th>user_id</th>\n",
       "      <th></th>\n",
       "      <th></th>\n",
       "      <th></th>\n",
       "      <th></th>\n",
       "      <th></th>\n",
       "      <th></th>\n",
       "      <th></th>\n",
       "      <th></th>\n",
       "      <th></th>\n",
       "      <th></th>\n",
       "      <th></th>\n",
       "      <th></th>\n",
       "      <th></th>\n",
       "      <th></th>\n",
       "      <th></th>\n",
       "      <th></th>\n",
       "      <th></th>\n",
       "      <th></th>\n",
       "      <th></th>\n",
       "      <th></th>\n",
       "      <th></th>\n",
       "    </tr>\n",
       "  </thead>\n",
       "  <tbody>\n",
       "    <tr>\n",
       "      <th>316</th>\n",
       "      <td>0.0</td>\n",
       "      <td>5.0</td>\n",
       "      <td>0.0</td>\n",
       "      <td>0.0</td>\n",
       "      <td>0.0</td>\n",
       "      <td>0.0</td>\n",
       "      <td>0.0</td>\n",
       "      <td>0.0</td>\n",
       "      <td>0.0</td>\n",
       "      <td>0.0</td>\n",
       "      <td>...</td>\n",
       "      <td>0.0</td>\n",
       "      <td>0.0</td>\n",
       "      <td>0.0</td>\n",
       "      <td>0.0</td>\n",
       "      <td>0.0</td>\n",
       "      <td>0.0</td>\n",
       "      <td>0.0</td>\n",
       "      <td>0.0</td>\n",
       "      <td>0.0</td>\n",
       "      <td>0.0</td>\n",
       "    </tr>\n",
       "    <tr>\n",
       "      <th>549</th>\n",
       "      <td>0.0</td>\n",
       "      <td>0.0</td>\n",
       "      <td>4.0</td>\n",
       "      <td>0.0</td>\n",
       "      <td>0.0</td>\n",
       "      <td>0.0</td>\n",
       "      <td>0.0</td>\n",
       "      <td>0.0</td>\n",
       "      <td>0.0</td>\n",
       "      <td>0.0</td>\n",
       "      <td>...</td>\n",
       "      <td>0.0</td>\n",
       "      <td>0.0</td>\n",
       "      <td>0.0</td>\n",
       "      <td>0.0</td>\n",
       "      <td>0.0</td>\n",
       "      <td>0.0</td>\n",
       "      <td>0.0</td>\n",
       "      <td>0.0</td>\n",
       "      <td>0.0</td>\n",
       "      <td>0.0</td>\n",
       "    </tr>\n",
       "    <tr>\n",
       "      <th>1164</th>\n",
       "      <td>0.0</td>\n",
       "      <td>0.0</td>\n",
       "      <td>0.0</td>\n",
       "      <td>4.0</td>\n",
       "      <td>0.0</td>\n",
       "      <td>0.0</td>\n",
       "      <td>0.0</td>\n",
       "      <td>0.0</td>\n",
       "      <td>0.0</td>\n",
       "      <td>0.0</td>\n",
       "      <td>...</td>\n",
       "      <td>0.0</td>\n",
       "      <td>0.0</td>\n",
       "      <td>0.0</td>\n",
       "      <td>0.0</td>\n",
       "      <td>0.0</td>\n",
       "      <td>0.0</td>\n",
       "      <td>0.0</td>\n",
       "      <td>0.0</td>\n",
       "      <td>0.0</td>\n",
       "      <td>0.0</td>\n",
       "    </tr>\n",
       "    <tr>\n",
       "      <th>1297</th>\n",
       "      <td>0.0</td>\n",
       "      <td>0.0</td>\n",
       "      <td>0.0</td>\n",
       "      <td>5.0</td>\n",
       "      <td>4.0</td>\n",
       "      <td>0.0</td>\n",
       "      <td>3.0</td>\n",
       "      <td>0.0</td>\n",
       "      <td>0.0</td>\n",
       "      <td>0.0</td>\n",
       "      <td>...</td>\n",
       "      <td>0.0</td>\n",
       "      <td>0.0</td>\n",
       "      <td>0.0</td>\n",
       "      <td>0.0</td>\n",
       "      <td>0.0</td>\n",
       "      <td>0.0</td>\n",
       "      <td>0.0</td>\n",
       "      <td>0.0</td>\n",
       "      <td>0.0</td>\n",
       "      <td>0.0</td>\n",
       "    </tr>\n",
       "    <tr>\n",
       "      <th>3051</th>\n",
       "      <td>0.0</td>\n",
       "      <td>0.0</td>\n",
       "      <td>0.0</td>\n",
       "      <td>0.0</td>\n",
       "      <td>4.0</td>\n",
       "      <td>0.0</td>\n",
       "      <td>0.0</td>\n",
       "      <td>0.0</td>\n",
       "      <td>0.0</td>\n",
       "      <td>0.0</td>\n",
       "      <td>...</td>\n",
       "      <td>0.0</td>\n",
       "      <td>0.0</td>\n",
       "      <td>0.0</td>\n",
       "      <td>0.0</td>\n",
       "      <td>0.0</td>\n",
       "      <td>0.0</td>\n",
       "      <td>0.0</td>\n",
       "      <td>0.0</td>\n",
       "      <td>0.0</td>\n",
       "      <td>0.0</td>\n",
       "    </tr>\n",
       "  </tbody>\n",
       "</table>\n",
       "<p>5 rows × 63610 columns</p>\n",
       "</div>"
      ],
      "text/plain": [
       "product_id  5       6       13      17      19      20      21      24      \\\n",
       "user_id                                                                      \n",
       "316            0.0     5.0     0.0     0.0     0.0     0.0     0.0     0.0   \n",
       "549            0.0     0.0     4.0     0.0     0.0     0.0     0.0     0.0   \n",
       "1164           0.0     0.0     0.0     4.0     0.0     0.0     0.0     0.0   \n",
       "1297           0.0     0.0     0.0     5.0     4.0     0.0     3.0     0.0   \n",
       "3051           0.0     0.0     0.0     0.0     4.0     0.0     0.0     0.0   \n",
       "\n",
       "product_id  29      30      ...  957359  957382  957455  957463  957508  \\\n",
       "user_id                     ...                                           \n",
       "316            0.0     0.0  ...     0.0     0.0     0.0     0.0     0.0   \n",
       "549            0.0     0.0  ...     0.0     0.0     0.0     0.0     0.0   \n",
       "1164           0.0     0.0  ...     0.0     0.0     0.0     0.0     0.0   \n",
       "1297           0.0     0.0  ...     0.0     0.0     0.0     0.0     0.0   \n",
       "3051           0.0     0.0  ...     0.0     0.0     0.0     0.0     0.0   \n",
       "\n",
       "product_id  957567  957657  957683  957740  957756  \n",
       "user_id                                             \n",
       "316            0.0     0.0     0.0     0.0     0.0  \n",
       "549            0.0     0.0     0.0     0.0     0.0  \n",
       "1164           0.0     0.0     0.0     0.0     0.0  \n",
       "1297           0.0     0.0     0.0     0.0     0.0  \n",
       "3051           0.0     0.0     0.0     0.0     0.0  \n",
       "\n",
       "[5 rows x 63610 columns]"
      ]
     },
     "execution_count": 114,
     "metadata": {},
     "output_type": "execute_result"
    }
   ],
   "source": [
    "# Aggregate the duplicate ratings by taking the mean\n",
    "df_final_agg = df_final.groupby(['user_id', 'product_id'])['rating'].mean().reset_index()\n",
    "\n",
    "# Pivot the dataframe to create the interaction matrix\n",
    "final_ratings_matrix = df_final_agg.pivot(index='user_id', columns='product_id', values='rating').fillna(0)\n",
    "\n",
    "# Print the shape and density of the matrix\n",
    "print('Shape of final_ratings_matrix: ', final_ratings_matrix.shape)\n",
    "\n",
    "given_num_of_ratings = np.count_nonzero(final_ratings_matrix)\n",
    "print('given_num_of_ratings = ', given_num_of_ratings)\n",
    "\n",
    "possible_num_of_ratings = final_ratings_matrix.shape[0] * final_ratings_matrix.shape[1]\n",
    "print('possible_num_of_ratings = ', possible_num_of_ratings)\n",
    "\n",
    "density = (given_num_of_ratings/possible_num_of_ratings)\n",
    "density *= 100\n",
    "print ('density: {:4.2f}%'.format(density))\n",
    "\n",
    "final_ratings_matrix.head()"
   ]
  },
  {
   "cell_type": "code",
   "execution_count": 115,
   "id": "0346f90a",
   "metadata": {},
   "outputs": [],
   "source": [
    "from sklearn.metrics.pairwise import cosine_similarity\n",
    "\n",
    "from sklearn.metrics import mean_squared_error\n",
    "\n",
    "\n",
    "\n",
    "def similar_users(user_index, interactions_matrix):\n",
    "    similarity = []\n",
    "    for user in range(0, interactions_matrix.shape[0]):\n",
    "        #finding cosine similarity between the user_index and each user\n",
    "        sim = cosine_similarity([interactions_matrix.loc[user_index]], [interactions_matrix.loc[user]])\n",
    "        #Appending the user and the corresponding similarity score with user_index as a tuple\n",
    "        similarity.append((user, sim))\n",
    "        \n",
    "    similarity.sort(key=lambda x: x[1], reverse=True)\n",
    "    most_similar_users = [Tuple[0] for Tuple in similarity] \n",
    "    #Extract the user from each tuple in the sorted list\n",
    "    similarity_score = [Tuple[1] for Tuple in similarity]   \n",
    "    ##Extracting the similarity score from each tuple in the sorted list\n",
    "   \n",
    "    #Remove the original user and its similarity score and keep only other similar users \n",
    "    most_similar_users.remove(user_index)\n",
    "    similarity_score.remove(similarity_score[0])\n",
    "       \n",
    "    return most_similar_users, similarity_score"
   ]
  },
  {
   "cell_type": "code",
   "execution_count": 116,
   "id": "c79fa0e5",
   "metadata": {},
   "outputs": [
    {
     "name": "stdout",
     "output_type": "stream",
     "text": [
      "product_id\n",
      "5     5.000000\n",
      "6     5.000000\n",
      "13    4.000000\n",
      "17    4.500000\n",
      "19    4.555556\n",
      "Name: rating, dtype: float64\n"
     ]
    },
    {
     "data": {
      "text/html": [
       "<div>\n",
       "<style scoped>\n",
       "    .dataframe tbody tr th:only-of-type {\n",
       "        vertical-align: middle;\n",
       "    }\n",
       "\n",
       "    .dataframe tbody tr th {\n",
       "        vertical-align: top;\n",
       "    }\n",
       "\n",
       "    .dataframe thead th {\n",
       "        text-align: right;\n",
       "    }\n",
       "</style>\n",
       "<table border=\"1\" class=\"dataframe\">\n",
       "  <thead>\n",
       "    <tr style=\"text-align: right;\">\n",
       "      <th></th>\n",
       "      <th>Average Rating</th>\n",
       "      <th>Ratings Count</th>\n",
       "    </tr>\n",
       "    <tr>\n",
       "      <th>product_id</th>\n",
       "      <th></th>\n",
       "      <th></th>\n",
       "    </tr>\n",
       "  </thead>\n",
       "  <tbody>\n",
       "    <tr>\n",
       "      <th>5</th>\n",
       "      <td>5.0</td>\n",
       "      <td>1</td>\n",
       "    </tr>\n",
       "    <tr>\n",
       "      <th>444919</th>\n",
       "      <td>5.0</td>\n",
       "      <td>1</td>\n",
       "    </tr>\n",
       "    <tr>\n",
       "      <th>95160</th>\n",
       "      <td>5.0</td>\n",
       "      <td>1</td>\n",
       "    </tr>\n",
       "    <tr>\n",
       "      <th>445200</th>\n",
       "      <td>5.0</td>\n",
       "      <td>1</td>\n",
       "    </tr>\n",
       "    <tr>\n",
       "      <th>95165</th>\n",
       "      <td>5.0</td>\n",
       "      <td>1</td>\n",
       "    </tr>\n",
       "  </tbody>\n",
       "</table>\n",
       "</div>"
      ],
      "text/plain": [
       "            Average Rating  Ratings Count\n",
       "product_id                               \n",
       "5                      5.0              1\n",
       "444919                 5.0              1\n",
       "95160                  5.0              1\n",
       "445200                 5.0              1\n",
       "95165                  5.0              1"
      ]
     },
     "execution_count": 116,
     "metadata": {},
     "output_type": "execute_result"
    }
   ],
   "source": [
    "#Calculate the average rating for each product \n",
    "average_rating = df_final.groupby(['product_id']).mean().rating\n",
    "print(average_rating.head())\n",
    "#Calculate the count of ratings for each product\n",
    "count_rating = df_final.groupby(['product_id']).count().rating\n",
    "\n",
    "#Create a dataframe with calculated average and count of ratings\n",
    "final_rating = pd.DataFrame(pd.concat([average_rating,count_rating], axis = 1))\n",
    "final_rating.columns=[\"Average Rating\", \"Ratings Count\"]\n",
    "\n",
    "#Sort the dataframe by average of ratings\n",
    "final_rating = final_rating.sort_values(by='Average Rating', ascending=False)\n",
    "\n",
    "final_rating.head()"
   ]
  },
  {
   "cell_type": "code",
   "execution_count": 117,
   "id": "0a9492d9",
   "metadata": {},
   "outputs": [],
   "source": [
    "def my_top_n_products(final_rating, n, min_interaction):\n",
    "    \n",
    "\n",
    "    recommendations = final_rating[final_rating['Ratings Count'] >= min_interaction]\n",
    "    \n",
    "\n",
    "    recommendations = recommendations.sort_values(by='Average Rating', ascending=False)\n",
    "    \n",
    "    return recommendations.index[:n]"
   ]
  },
  {
   "cell_type": "code",
   "execution_count": 118,
   "id": "9c5f87c7",
   "metadata": {},
   "outputs": [
    {
     "data": {
      "text/plain": [
       "[24006, 65092, 11521, 82507, 23915]"
      ]
     },
     "execution_count": 118,
     "metadata": {},
     "output_type": "execute_result"
    }
   ],
   "source": [
    "list(my_top_n_products(final_rating, 5, 50))\n"
   ]
  },
  {
   "cell_type": "code",
   "execution_count": null,
   "id": "becbfa53",
   "metadata": {},
   "outputs": [],
   "source": [
    "\n"
   ]
  },
  {
   "cell_type": "code",
   "execution_count": 110,
   "id": "60069942",
   "metadata": {},
   "outputs": [],
   "source": [
    "\n",
    "\n",
    "\n"
   ]
  },
  {
   "cell_type": "code",
   "execution_count": null,
   "id": "821104c8",
   "metadata": {},
   "outputs": [],
   "source": []
  },
  {
   "cell_type": "code",
   "execution_count": null,
   "id": "5e683993",
   "metadata": {},
   "outputs": [],
   "source": []
  },
  {
   "cell_type": "code",
   "execution_count": null,
   "id": "0d2f5c74",
   "metadata": {},
   "outputs": [],
   "source": []
  }
 ],
 "metadata": {
  "kernelspec": {
   "display_name": "Python 3 (ipykernel)",
   "language": "python",
   "name": "python3"
  },
  "language_info": {
   "codemirror_mode": {
    "name": "ipython",
    "version": 3
   },
   "file_extension": ".py",
   "mimetype": "text/x-python",
   "name": "python",
   "nbconvert_exporter": "python",
   "pygments_lexer": "ipython3",
   "version": "3.9.14"
  }
 },
 "nbformat": 4,
 "nbformat_minor": 5
}
